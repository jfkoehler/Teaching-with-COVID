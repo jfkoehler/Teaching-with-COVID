{
  "nbformat": 4,
  "nbformat_minor": 0,
  "metadata": {
    "colab": {
      "name": "extra_week2.ipynb",
      "provenance": [],
      "collapsed_sections": []
    },
    "kernelspec": {
      "name": "python3",
      "display_name": "Python 3"
    },
    "widgets": {
      "application/vnd.jupyter.widget-state+json": {
        "57ce71dc2760407185a33d871faaba64": {
          "model_module": "@jupyter-widgets/controls",
          "model_name": "VBoxModel",
          "state": {
            "_view_name": "VBoxView",
            "_dom_classes": [
              "widget-interact"
            ],
            "_model_name": "VBoxModel",
            "_view_module": "@jupyter-widgets/controls",
            "_model_module_version": "1.5.0",
            "_view_count": null,
            "_view_module_version": "1.5.0",
            "box_style": "",
            "layout": "IPY_MODEL_de556cf7e83d482dae41e0fd85f68c85",
            "_model_module": "@jupyter-widgets/controls",
            "children": [
              "IPY_MODEL_4bcfc54ed4504640a8cefd155764cfd4",
              "IPY_MODEL_6d9aae9465384db9a5a80ca70e3b297c",
              "IPY_MODEL_fb0deb8d8a55431a9be6c039cf7701dd",
              "IPY_MODEL_423ccd798e254dd9a4cda4c1bee3f0df"
            ]
          }
        },
        "de556cf7e83d482dae41e0fd85f68c85": {
          "model_module": "@jupyter-widgets/base",
          "model_name": "LayoutModel",
          "state": {
            "_view_name": "LayoutView",
            "grid_template_rows": null,
            "right": null,
            "justify_content": null,
            "_view_module": "@jupyter-widgets/base",
            "overflow": null,
            "_model_module_version": "1.2.0",
            "_view_count": null,
            "flex_flow": null,
            "width": null,
            "min_width": null,
            "border": null,
            "align_items": null,
            "bottom": null,
            "_model_module": "@jupyter-widgets/base",
            "top": null,
            "grid_column": null,
            "overflow_y": null,
            "overflow_x": null,
            "grid_auto_flow": null,
            "grid_area": null,
            "grid_template_columns": null,
            "flex": null,
            "_model_name": "LayoutModel",
            "justify_items": null,
            "grid_row": null,
            "max_height": null,
            "align_content": null,
            "visibility": null,
            "align_self": null,
            "height": null,
            "min_height": null,
            "padding": null,
            "grid_auto_rows": null,
            "grid_gap": null,
            "max_width": null,
            "order": null,
            "_view_module_version": "1.2.0",
            "grid_template_areas": null,
            "object_position": null,
            "object_fit": null,
            "grid_auto_columns": null,
            "margin": null,
            "display": null,
            "left": null
          }
        },
        "4bcfc54ed4504640a8cefd155764cfd4": {
          "model_module": "@jupyter-widgets/controls",
          "model_name": "FloatSliderModel",
          "state": {
            "_view_name": "FloatSliderView",
            "style": "IPY_MODEL_cb3cc4effea34291be4bce9f8f22026a",
            "_dom_classes": [],
            "description": "a",
            "step": 5e-7,
            "_model_name": "FloatSliderModel",
            "orientation": "horizontal",
            "max": 0.1,
            "_view_module": "@jupyter-widgets/controls",
            "_model_module_version": "1.5.0",
            "value": 0.001,
            "_view_count": null,
            "disabled": false,
            "_view_module_version": "1.5.0",
            "min": 0.000001,
            "continuous_update": true,
            "readout_format": ".2f",
            "description_tooltip": null,
            "readout": true,
            "_model_module": "@jupyter-widgets/controls",
            "layout": "IPY_MODEL_4d8d4e02536543869e44ed4271bc411f"
          }
        },
        "6d9aae9465384db9a5a80ca70e3b297c": {
          "model_module": "@jupyter-widgets/controls",
          "model_name": "FloatSliderModel",
          "state": {
            "_view_name": "FloatSliderView",
            "style": "IPY_MODEL_ddb7ad98af80455a9309f5d3826292fb",
            "_dom_classes": [],
            "description": "b",
            "step": 0.05,
            "_model_name": "FloatSliderModel",
            "orientation": "horizontal",
            "max": 0.9,
            "_view_module": "@jupyter-widgets/controls",
            "_model_module_version": "1.5.0",
            "value": 0.07142857142857142,
            "_view_count": null,
            "disabled": false,
            "_view_module_version": "1.5.0",
            "min": 0.01,
            "continuous_update": true,
            "readout_format": ".2f",
            "description_tooltip": null,
            "readout": true,
            "_model_module": "@jupyter-widgets/controls",
            "layout": "IPY_MODEL_dbc9306d9cec4216adb4fcc4b4342a24"
          }
        },
        "fb0deb8d8a55431a9be6c039cf7701dd": {
          "model_module": "@jupyter-widgets/controls",
          "model_name": "IntSliderModel",
          "state": {
            "_view_name": "IntSliderView",
            "style": "IPY_MODEL_9e9dc13b0c624b1abba6a5a233448b3f",
            "_dom_classes": [],
            "description": "n",
            "step": 1,
            "_model_name": "IntSliderModel",
            "orientation": "horizontal",
            "max": 40,
            "_view_module": "@jupyter-widgets/controls",
            "_model_module_version": "1.5.0",
            "value": 40,
            "_view_count": null,
            "disabled": false,
            "_view_module_version": "1.5.0",
            "min": 1,
            "continuous_update": true,
            "readout_format": "d",
            "description_tooltip": null,
            "readout": true,
            "_model_module": "@jupyter-widgets/controls",
            "layout": "IPY_MODEL_cb7e0c0fadba4070ad59dbb2f60f31c2"
          }
        },
        "423ccd798e254dd9a4cda4c1bee3f0df": {
          "model_module": "@jupyter-widgets/output",
          "model_name": "OutputModel",
          "state": {
            "_view_name": "OutputView",
            "msg_id": "",
            "_dom_classes": [],
            "_model_name": "OutputModel",
            "outputs": [
              {
                "output_type": "display_data",
                "metadata": {
                  "tags": []
                },
                "image/png": "iVBORw0KGgoAAAANSUhEUgAAAzUAAAFVCAYAAADWh8GfAAAABHNCSVQICAgIfAhkiAAAAAlwSFlz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\n/weklxnAKD0tLQAAAABJRU5ErkJggg==\n",
                "text/plain": "<Figure size 1008x360 with 1 Axes>"
              }
            ],
            "_view_module": "@jupyter-widgets/output",
            "_model_module_version": "1.0.0",
            "_view_count": null,
            "_view_module_version": "1.0.0",
            "layout": "IPY_MODEL_c3daceea30674094bf3f8285ddbbe8df",
            "_model_module": "@jupyter-widgets/output"
          }
        },
        "cb3cc4effea34291be4bce9f8f22026a": {
          "model_module": "@jupyter-widgets/controls",
          "model_name": "SliderStyleModel",
          "state": {
            "_view_name": "StyleView",
            "handle_color": null,
            "_model_name": "SliderStyleModel",
            "description_width": "",
            "_view_module": "@jupyter-widgets/base",
            "_model_module_version": "1.5.0",
            "_view_count": null,
            "_view_module_version": "1.2.0",
            "_model_module": "@jupyter-widgets/controls"
          }
        },
        "4d8d4e02536543869e44ed4271bc411f": {
          "model_module": "@jupyter-widgets/base",
          "model_name": "LayoutModel",
          "state": {
            "_view_name": "LayoutView",
            "grid_template_rows": null,
            "right": null,
            "justify_content": null,
            "_view_module": "@jupyter-widgets/base",
            "overflow": null,
            "_model_module_version": "1.2.0",
            "_view_count": null,
            "flex_flow": null,
            "width": null,
            "min_width": null,
            "border": null,
            "align_items": null,
            "bottom": null,
            "_model_module": "@jupyter-widgets/base",
            "top": null,
            "grid_column": null,
            "overflow_y": null,
            "overflow_x": null,
            "grid_auto_flow": null,
            "grid_area": null,
            "grid_template_columns": null,
            "flex": null,
            "_model_name": "LayoutModel",
            "justify_items": null,
            "grid_row": null,
            "max_height": null,
            "align_content": null,
            "visibility": null,
            "align_self": null,
            "height": null,
            "min_height": null,
            "padding": null,
            "grid_auto_rows": null,
            "grid_gap": null,
            "max_width": null,
            "order": null,
            "_view_module_version": "1.2.0",
            "grid_template_areas": null,
            "object_position": null,
            "object_fit": null,
            "grid_auto_columns": null,
            "margin": null,
            "display": null,
            "left": null
          }
        },
        "ddb7ad98af80455a9309f5d3826292fb": {
          "model_module": "@jupyter-widgets/controls",
          "model_name": "SliderStyleModel",
          "state": {
            "_view_name": "StyleView",
            "handle_color": null,
            "_model_name": "SliderStyleModel",
            "description_width": "",
            "_view_module": "@jupyter-widgets/base",
            "_model_module_version": "1.5.0",
            "_view_count": null,
            "_view_module_version": "1.2.0",
            "_model_module": "@jupyter-widgets/controls"
          }
        },
        "dbc9306d9cec4216adb4fcc4b4342a24": {
          "model_module": "@jupyter-widgets/base",
          "model_name": "LayoutModel",
          "state": {
            "_view_name": "LayoutView",
            "grid_template_rows": null,
            "right": null,
            "justify_content": null,
            "_view_module": "@jupyter-widgets/base",
            "overflow": null,
            "_model_module_version": "1.2.0",
            "_view_count": null,
            "flex_flow": null,
            "width": null,
            "min_width": null,
            "border": null,
            "align_items": null,
            "bottom": null,
            "_model_module": "@jupyter-widgets/base",
            "top": null,
            "grid_column": null,
            "overflow_y": null,
            "overflow_x": null,
            "grid_auto_flow": null,
            "grid_area": null,
            "grid_template_columns": null,
            "flex": null,
            "_model_name": "LayoutModel",
            "justify_items": null,
            "grid_row": null,
            "max_height": null,
            "align_content": null,
            "visibility": null,
            "align_self": null,
            "height": null,
            "min_height": null,
            "padding": null,
            "grid_auto_rows": null,
            "grid_gap": null,
            "max_width": null,
            "order": null,
            "_view_module_version": "1.2.0",
            "grid_template_areas": null,
            "object_position": null,
            "object_fit": null,
            "grid_auto_columns": null,
            "margin": null,
            "display": null,
            "left": null
          }
        },
        "9e9dc13b0c624b1abba6a5a233448b3f": {
          "model_module": "@jupyter-widgets/controls",
          "model_name": "SliderStyleModel",
          "state": {
            "_view_name": "StyleView",
            "handle_color": null,
            "_model_name": "SliderStyleModel",
            "description_width": "",
            "_view_module": "@jupyter-widgets/base",
            "_model_module_version": "1.5.0",
            "_view_count": null,
            "_view_module_version": "1.2.0",
            "_model_module": "@jupyter-widgets/controls"
          }
        },
        "cb7e0c0fadba4070ad59dbb2f60f31c2": {
          "model_module": "@jupyter-widgets/base",
          "model_name": "LayoutModel",
          "state": {
            "_view_name": "LayoutView",
            "grid_template_rows": null,
            "right": null,
            "justify_content": null,
            "_view_module": "@jupyter-widgets/base",
            "overflow": null,
            "_model_module_version": "1.2.0",
            "_view_count": null,
            "flex_flow": null,
            "width": null,
            "min_width": null,
            "border": null,
            "align_items": null,
            "bottom": null,
            "_model_module": "@jupyter-widgets/base",
            "top": null,
            "grid_column": null,
            "overflow_y": null,
            "overflow_x": null,
            "grid_auto_flow": null,
            "grid_area": null,
            "grid_template_columns": null,
            "flex": null,
            "_model_name": "LayoutModel",
            "justify_items": null,
            "grid_row": null,
            "max_height": null,
            "align_content": null,
            "visibility": null,
            "align_self": null,
            "height": null,
            "min_height": null,
            "padding": null,
            "grid_auto_rows": null,
            "grid_gap": null,
            "max_width": null,
            "order": null,
            "_view_module_version": "1.2.0",
            "grid_template_areas": null,
            "object_position": null,
            "object_fit": null,
            "grid_auto_columns": null,
            "margin": null,
            "display": null,
            "left": null
          }
        }
      }
    }
  },
  "cells": [
    {
      "cell_type": "markdown",
      "metadata": {
        "id": "ZfGEArVyDR9M",
        "colab_type": "text"
      },
      "source": [
        "# The SIR Model and CORONA"
      ]
    },
    {
      "cell_type": "code",
      "metadata": {
        "id": "kMNuPirPHA8B",
        "colab_type": "code",
        "colab": {}
      },
      "source": [
        "#susceptible\n",
        "S = [700]\n",
        "#infected\n",
        "I = [5]\n",
        "#recovered\n",
        "R = [2]"
      ],
      "execution_count": 0,
      "outputs": []
    },
    {
      "cell_type": "code",
      "metadata": {
        "id": "NndEPiJCHA5v",
        "colab_type": "code",
        "outputId": "be9e79d3-43e9-4de8-e577-7bda5b28dd3f",
        "colab": {
          "base_uri": "https://localhost:8080/",
          "height": 35
        }
      },
      "source": [
        "snext = 700 + (-0.01*700*5)\n",
        "print(snext)"
      ],
      "execution_count": 2,
      "outputs": [
        {
          "output_type": "stream",
          "text": [
            "665.0\n"
          ],
          "name": "stdout"
        }
      ]
    },
    {
      "cell_type": "code",
      "metadata": {
        "id": "FQfRfdrZHA3o",
        "colab_type": "code",
        "colab": {}
      },
      "source": [
        "Inext = 5 + (0.01*700*5 - 1/14*5)"
      ],
      "execution_count": 0,
      "outputs": []
    },
    {
      "cell_type": "code",
      "metadata": {
        "id": "bVmFxSi0HA1X",
        "colab_type": "code",
        "outputId": "3a365471-437e-4078-d349-8f85cde89806",
        "colab": {
          "base_uri": "https://localhost:8080/",
          "height": 35
        }
      },
      "source": [
        "print(Inext)"
      ],
      "execution_count": 4,
      "outputs": [
        {
          "output_type": "stream",
          "text": [
            "39.642857142857146\n"
          ],
          "name": "stdout"
        }
      ]
    },
    {
      "cell_type": "code",
      "metadata": {
        "id": "m27VP4i5HAzm",
        "colab_type": "code",
        "outputId": "ba011eef-0cb3-4718-9ac2-7b9d6eb1e938",
        "colab": {
          "base_uri": "https://localhost:8080/",
          "height": 35
        }
      },
      "source": [
        "snext = 700 + (-0.0001*700*5)\n",
        "Inext = 5 + (0.0001*700*5 - 1/14*5)\n",
        "rnext = 2 + 1/14*5\n",
        "print(snext, Inext, rnext)"
      ],
      "execution_count": 5,
      "outputs": [
        {
          "output_type": "stream",
          "text": [
            "699.65 4.992857142857143 2.357142857142857\n"
          ],
          "name": "stdout"
        }
      ]
    },
    {
      "cell_type": "code",
      "metadata": {
        "id": "8CbhD7SZHAxT",
        "colab_type": "code",
        "colab": {}
      },
      "source": [
        "#susceptible\n",
        "S = [700]\n",
        "#infected\n",
        "I = [5]\n",
        "#recovered\n",
        "R = [2]\n",
        "for i in range(17):\n",
        "  snext = S[i] + (-0.001*S[i]*I[i])\n",
        "  Inext = I[i] + (0.001*S[i]*I[i] - 1/14*I[i])\n",
        "  rnext = R[i] + 1/14*I[i]\n",
        "  S.append(snext)\n",
        "  I.append(Inext)\n",
        "  R.append(rnext)"
      ],
      "execution_count": 0,
      "outputs": []
    },
    {
      "cell_type": "code",
      "metadata": {
        "id": "h0rglFGuHAu3",
        "colab_type": "code",
        "outputId": "1a0fce8f-1f18-4795-9381-f1e0c98ceec1",
        "colab": {
          "base_uri": "https://localhost:8080/",
          "height": 329
        }
      },
      "source": [
        "S"
      ],
      "execution_count": 7,
      "outputs": [
        {
          "output_type": "execute_result",
          "data": {
            "text/plain": [
              "[700,\n",
              " 696.5,\n",
              " 690.8285,\n",
              " 681.686956789801,\n",
              " 667.0790371658117,\n",
              " 644.0605780076107,\n",
              " 608.5985607863037,\n",
              " 555.9004859090228,\n",
              " 481.9088243650933,\n",
              " 386.6900492529603,\n",
              " 278.92257154302376,\n",
              " 176.68265581076184,\n",
              " 98.48104073233439,\n",
              " 50.30439471988589,\n",
              " 25.029899472383892,\n",
              " 12.719751567860635,\n",
              " 6.754213218438855,\n",
              " 3.7724732376766053]"
            ]
          },
          "metadata": {
            "tags": []
          },
          "execution_count": 7
        }
      ]
    },
    {
      "cell_type": "code",
      "metadata": {
        "id": "9eEY-t5lHAsx",
        "colab_type": "code",
        "outputId": "e1cb54d0-14a4-43dc-b087-5ada1b6a30cf",
        "colab": {
          "base_uri": "https://localhost:8080/",
          "height": 329
        }
      },
      "source": [
        "I"
      ],
      "execution_count": 8,
      "outputs": [
        {
          "output_type": "execute_result",
          "data": {
            "text/plain": [
              "[5,\n",
              " 8.142857142857142,\n",
              " 13.232724489795917,\n",
              " 21.429073093580904,\n",
              " 34.50634463945735,\n",
              " 55.06006489483985,\n",
              " 86.58922033794411,\n",
              " 133.10235090537188,\n",
              " 197.58670167034626,\n",
              " 278.6921409488831,\n",
              " 366.55303716247084,\n",
              " 442.6105930974134,\n",
              " 489.1971658117399,\n",
              " 502.43115712334986,\n",
              " 491.81771257632687,\n",
              " 468.99802386825536,\n",
              " 441.4637033699446,\n",
              " 412.9123216814251]"
            ]
          },
          "metadata": {
            "tags": []
          },
          "execution_count": 8
        }
      ]
    },
    {
      "cell_type": "code",
      "metadata": {
        "id": "-KvgqllNHAqy",
        "colab_type": "code",
        "outputId": "c22f6642-e018-4574-bec6-8c6d285ab6a2",
        "colab": {
          "base_uri": "https://localhost:8080/",
          "height": 329
        }
      },
      "source": [
        "R"
      ],
      "execution_count": 9,
      "outputs": [
        {
          "output_type": "execute_result",
          "data": {
            "text/plain": [
              "[2,\n",
              " 2.357142857142857,\n",
              " 2.938775510204082,\n",
              " 3.883970116618076,\n",
              " 5.4146181947309975,\n",
              " 7.87935709754938,\n",
              " 11.812218875752226,\n",
              " 17.997163185605377,\n",
              " 27.50447396456051,\n",
              " 41.61780979815667,\n",
              " 61.52439129450546,\n",
              " 87.7067510918248,\n",
              " 119.32179345592576,\n",
              " 154.26444815676433,\n",
              " 190.1523879512893,\n",
              " 225.28222456388409,\n",
              " 258.7820834116166,\n",
              " 290.31520508089835]"
            ]
          },
          "metadata": {
            "tags": []
          },
          "execution_count": 9
        }
      ]
    },
    {
      "cell_type": "code",
      "metadata": {
        "id": "JqtF6qhDHAoM",
        "colab_type": "code",
        "outputId": "5d190cd8-b9af-4da5-a9e5-4c4e6c0430b7",
        "colab": {
          "base_uri": "https://localhost:8080/",
          "height": 283
        }
      },
      "source": [
        "%matplotlib inline\n",
        "import matplotlib.pyplot as plt \n",
        "\n",
        "#susceptible\n",
        "S = [700]\n",
        "#infected\n",
        "I = [5]\n",
        "#recovered\n",
        "R = [2]\n",
        "for i in range(17):\n",
        "  snext = S[i] + (-0.001*S[i]*I[i])\n",
        "  Inext = I[i] + (0.001*S[i]*I[i] - 1/14*I[i])\n",
        "  rnext = R[i] + 1/14*I[i]\n",
        "  S.append(snext)\n",
        "  I.append(Inext)\n",
        "  R.append(rnext)\n",
        "plt.plot(S, '-o', label = 'Susceptible')\n",
        "plt.plot(I, '-o', label = 'Infected')\n",
        "plt.plot(R, '-o', label = 'Recoverd')\n",
        "plt.legend()"
      ],
      "execution_count": 10,
      "outputs": [
        {
          "output_type": "execute_result",
          "data": {
            "text/plain": [
              "<matplotlib.legend.Legend at 0x7f3ab580c6a0>"
            ]
          },
          "metadata": {
            "tags": []
          },
          "execution_count": 10
        },
        {
          "output_type": "display_data",
          "data": {
            "image/png": "[encoded data removed]",
            "text/plain": [
              "<Figure size 432x288 with 1 Axes>"
            ]
          },
          "metadata": {
            "tags": []
          }
        }
      ]
    },
    {
      "cell_type": "code",
      "metadata": {
        "id": "9nXpvE-KKfDj",
        "colab_type": "code",
        "colab": {}
      },
      "source": [
        "from ipywidgets import interact\n",
        "import ipywidgets as widgets \n",
        "font = {'family': 'serif',\n",
        "        'color':  'darkred',\n",
        "        'weight': 'normal',\n",
        "        'size': 16,\n",
        "        }"
      ],
      "execution_count": 0,
      "outputs": []
    },
    {
      "cell_type": "code",
      "metadata": {
        "id": "PHYZaZLgLVQf",
        "colab_type": "code",
        "colab": {}
      },
      "source": [
        "def sir_experiment(a, b, n):  \n",
        "  #susceptible\n",
        "  S = [700]\n",
        "  #infected\n",
        "  I = [5]\n",
        "  #recovered\n",
        "  R = [2]\n",
        "  for i in range(n):\n",
        "    snext = S[i] + (-a*S[i]*I[i])\n",
        "    Inext = I[i] + (a*S[i]*I[i] - b*I[i])\n",
        "    rnext = R[i] + b*I[i]\n",
        "    S.append(snext)\n",
        "    I.append(Inext)\n",
        "    R.append(rnext)\n",
        "  plt.figure(figsize = (14, 5))\n",
        "  plt.plot(S, '-o', label = 'Susceptible')\n",
        "  plt.plot(I, '-o', label = 'Infected')\n",
        "  plt.plot(R, '-o', label = 'Recoverd')\n",
        "  plt.title(f'SIR Model with parameters \\na = {a:.5f} and b = {b:.5f} over {n} periods',\n",
        "            loc = 'left', fontdict = font )\n",
        "  plt.legend()"
      ],
      "execution_count": 0,
      "outputs": []
    },
    {
      "cell_type": "code",
      "metadata": {
        "id": "IybeuRvjLrtu",
        "colab_type": "code",
        "outputId": "281dd4e6-46f4-4f8f-dabc-2332c93fe5c4",
        "colab": {
          "base_uri": "https://localhost:8080/",
          "height": 434,
          "referenced_widgets": [
            "57ce71dc2760407185a33d871faaba64",
            "de556cf7e83d482dae41e0fd85f68c85",
            "4bcfc54ed4504640a8cefd155764cfd4",
            "6d9aae9465384db9a5a80ca70e3b297c",
            "fb0deb8d8a55431a9be6c039cf7701dd",
            "423ccd798e254dd9a4cda4c1bee3f0df",
            "cb3cc4effea34291be4bce9f8f22026a",
            "4d8d4e02536543869e44ed4271bc411f",
            "ddb7ad98af80455a9309f5d3826292fb",
            "dbc9306d9cec4216adb4fcc4b4342a24",
            "9e9dc13b0c624b1abba6a5a233448b3f",
            "cb7e0c0fadba4070ad59dbb2f60f31c2"
          ]
        }
      },
      "source": [
        "interact(sir_experiment, \n",
        "         a = widgets.FloatSlider(0.001, min = 0.000001, max = 0.1, step = 0.0000005),\n",
        "         b = widgets.FloatSlider(1/14, min = 0.01, max = 0.9, step = 0.05),\n",
        "         n = widgets.IntSlider(1, min = 1, max = 40, step = 1)\n",
        "         )"
      ],
      "execution_count": 29,
      "outputs": [
        {
          "output_type": "display_data",
          "data": {
            "application/vnd.jupyter.widget-view+json": {
              "model_id": "57ce71dc2760407185a33d871faaba64",
              "version_minor": 0,
              "version_major": 2
            },
            "text/plain": [
              "interactive(children=(FloatSlider(value=0.001, description='a', max=0.1, min=1e-06, step=5e-07), FloatSlider(v…"
            ]
          },
          "metadata": {
            "tags": []
          }
        },
        {
          "output_type": "execute_result",
          "data": {
            "text/plain": [
              "<function __main__.sir_experiment>"
            ]
          },
          "metadata": {
            "tags": []
          },
          "execution_count": 29
        }
      ]
    },
    {
      "cell_type": "markdown",
      "metadata": {
        "id": "yjuZ-KT100Uj",
        "colab_type": "text"
      },
      "source": [
        "### Comparing Real Infected Data"
      ]
    },
    {
      "cell_type": "code",
      "metadata": {
        "id": "-va0UmjdMXc_",
        "colab_type": "code",
        "colab": {}
      },
      "source": [
        "import pandas as pd"
      ],
      "execution_count": 0,
      "outputs": []
    },
    {
      "cell_type": "code",
      "metadata": {
        "id": "XNVCvlQiOMYT",
        "colab_type": "code",
        "colab": {}
      },
      "source": [
        "df = pd.read_csv('https://raw.githubusercontent.com/CSSEGISandData/COVID-19/master/csse_covid_19_data/csse_covid_19_time_series/time_series_covid19_confirmed_global.csv')"
      ],
      "execution_count": 0,
      "outputs": []
    },
    {
      "cell_type": "code",
      "metadata": {
        "id": "w1v7Gq5XONvS",
        "colab_type": "code",
        "outputId": "8731612b-2787-4f21-a35f-f131f0d565c8",
        "colab": {
          "base_uri": "https://localhost:8080/",
          "height": 222
        }
      },
      "source": [
        "df.head()"
      ],
      "execution_count": 0,
      "outputs": [
        {
          "output_type": "execute_result",
          "data": {
            "text/html": [
              "<div>\n",
              "<style scoped>\n",
              "    .dataframe tbody tr th:only-of-type {\n",
              "        vertical-align: middle;\n",
              "    }\n",
              "\n",
              "    .dataframe tbody tr th {\n",
              "        vertical-align: top;\n",
              "    }\n",
              "\n",
              "    .dataframe thead th {\n",
              "        text-align: right;\n",
              "    }\n",
              "</style>\n",
              "<table border=\"1\" class=\"dataframe\">\n",
              "  <thead>\n",
              "    <tr style=\"text-align: right;\">\n",
              "      <th></th>\n",
              "      <th>Province/State</th>\n",
              "      <th>Country/Region</th>\n",
              "      <th>Lat</th>\n",
              "      <th>Long</th>\n",
              "      <th>1/22/20</th>\n",
              "      <th>1/23/20</th>\n",
              "      <th>1/24/20</th>\n",
              "      <th>1/25/20</th>\n",
              "      <th>1/26/20</th>\n",
              "      <th>1/27/20</th>\n",
              "      <th>1/28/20</th>\n",
              "      <th>1/29/20</th>\n",
              "      <th>1/30/20</th>\n",
              "      <th>1/31/20</th>\n",
              "      <th>2/1/20</th>\n",
              "      <th>2/2/20</th>\n",
              "      <th>2/3/20</th>\n",
              "      <th>2/4/20</th>\n",
              "      <th>2/5/20</th>\n",
              "      <th>2/6/20</th>\n",
              "      <th>2/7/20</th>\n",
              "      <th>2/8/20</th>\n",
              "      <th>2/9/20</th>\n",
              "      <th>2/10/20</th>\n",
              "      <th>2/11/20</th>\n",
              "      <th>2/12/20</th>\n",
              "      <th>2/13/20</th>\n",
              "      <th>2/14/20</th>\n",
              "      <th>2/15/20</th>\n",
              "      <th>2/16/20</th>\n",
              "      <th>2/17/20</th>\n",
              "      <th>2/18/20</th>\n",
              "      <th>2/19/20</th>\n",
              "      <th>2/20/20</th>\n",
              "      <th>2/21/20</th>\n",
              "      <th>2/22/20</th>\n",
              "      <th>2/23/20</th>\n",
              "      <th>2/24/20</th>\n",
              "      <th>2/25/20</th>\n",
              "      <th>2/26/20</th>\n",
              "      <th>2/27/20</th>\n",
              "      <th>2/28/20</th>\n",
              "      <th>2/29/20</th>\n",
              "      <th>3/1/20</th>\n",
              "      <th>3/2/20</th>\n",
              "      <th>3/3/20</th>\n",
              "      <th>3/4/20</th>\n",
              "      <th>3/5/20</th>\n",
              "      <th>3/6/20</th>\n",
              "      <th>3/7/20</th>\n",
              "      <th>3/8/20</th>\n",
              "      <th>3/9/20</th>\n",
              "      <th>3/10/20</th>\n",
              "      <th>3/11/20</th>\n",
              "      <th>3/12/20</th>\n",
              "      <th>3/13/20</th>\n",
              "      <th>3/14/20</th>\n",
              "      <th>3/15/20</th>\n",
              "      <th>3/16/20</th>\n",
              "      <th>3/17/20</th>\n",
              "      <th>3/18/20</th>\n",
              "      <th>3/19/20</th>\n",
              "      <th>3/20/20</th>\n",
              "      <th>3/21/20</th>\n",
              "      <th>3/22/20</th>\n",
              "      <th>3/23/20</th>\n",
              "      <th>3/24/20</th>\n",
              "    </tr>\n",
              "  </thead>\n",
              "  <tbody>\n",
              "    <tr>\n",
              "      <th>0</th>\n",
              "      <td>NaN</td>\n",
              "      <td>Afghanistan</td>\n",
              "      <td>33.0000</td>\n",
              "      <td>65.0000</td>\n",
              "      <td>0</td>\n",
              "      <td>0</td>\n",
              "      <td>0</td>\n",
              "      <td>0</td>\n",
              "      <td>0</td>\n",
              "      <td>0</td>\n",
              "      <td>0</td>\n",
              "      <td>0</td>\n",
              "      <td>0</td>\n",
              "      <td>0</td>\n",
              "      <td>0</td>\n",
              "      <td>0</td>\n",
              "      <td>0</td>\n",
              "      <td>0</td>\n",
              "      <td>0</td>\n",
              "      <td>0</td>\n",
              "      <td>0</td>\n",
              "      <td>0</td>\n",
              "      <td>0</td>\n",
              "      <td>0</td>\n",
              "      <td>0</td>\n",
              "      <td>0</td>\n",
              "      <td>0</td>\n",
              "      <td>0</td>\n",
              "      <td>0</td>\n",
              "      <td>0</td>\n",
              "      <td>0</td>\n",
              "      <td>0</td>\n",
              "      <td>0</td>\n",
              "      <td>0</td>\n",
              "      <td>0</td>\n",
              "      <td>0</td>\n",
              "      <td>0</td>\n",
              "      <td>1</td>\n",
              "      <td>1</td>\n",
              "      <td>1</td>\n",
              "      <td>1</td>\n",
              "      <td>1</td>\n",
              "      <td>1</td>\n",
              "      <td>1</td>\n",
              "      <td>1</td>\n",
              "      <td>1</td>\n",
              "      <td>1</td>\n",
              "      <td>1</td>\n",
              "      <td>1</td>\n",
              "      <td>1</td>\n",
              "      <td>4</td>\n",
              "      <td>4</td>\n",
              "      <td>5</td>\n",
              "      <td>7</td>\n",
              "      <td>7</td>\n",
              "      <td>7</td>\n",
              "      <td>11</td>\n",
              "      <td>16</td>\n",
              "      <td>21</td>\n",
              "      <td>22</td>\n",
              "      <td>22</td>\n",
              "      <td>22</td>\n",
              "      <td>24</td>\n",
              "      <td>24</td>\n",
              "      <td>40</td>\n",
              "      <td>40</td>\n",
              "      <td>74</td>\n",
              "    </tr>\n",
              "    <tr>\n",
              "      <th>1</th>\n",
              "      <td>NaN</td>\n",
              "      <td>Albania</td>\n",
              "      <td>41.1533</td>\n",
              "      <td>20.1683</td>\n",
              "      <td>0</td>\n",
              "      <td>0</td>\n",
              "      <td>0</td>\n",
              "      <td>0</td>\n",
              "      <td>0</td>\n",
              "      <td>0</td>\n",
              "      <td>0</td>\n",
              "      <td>0</td>\n",
              "      <td>0</td>\n",
              "      <td>0</td>\n",
              "      <td>0</td>\n",
              "      <td>0</td>\n",
              "      <td>0</td>\n",
              "      <td>0</td>\n",
              "      <td>0</td>\n",
              "      <td>0</td>\n",
              "      <td>0</td>\n",
              "      <td>0</td>\n",
              "      <td>0</td>\n",
              "      <td>0</td>\n",
              "      <td>0</td>\n",
              "      <td>0</td>\n",
              "      <td>0</td>\n",
              "      <td>0</td>\n",
              "      <td>0</td>\n",
              "      <td>0</td>\n",
              "      <td>0</td>\n",
              "      <td>0</td>\n",
              "      <td>0</td>\n",
              "      <td>0</td>\n",
              "      <td>0</td>\n",
              "      <td>0</td>\n",
              "      <td>0</td>\n",
              "      <td>0</td>\n",
              "      <td>0</td>\n",
              "      <td>0</td>\n",
              "      <td>0</td>\n",
              "      <td>0</td>\n",
              "      <td>0</td>\n",
              "      <td>0</td>\n",
              "      <td>0</td>\n",
              "      <td>0</td>\n",
              "      <td>0</td>\n",
              "      <td>0</td>\n",
              "      <td>0</td>\n",
              "      <td>0</td>\n",
              "      <td>0</td>\n",
              "      <td>2</td>\n",
              "      <td>10</td>\n",
              "      <td>12</td>\n",
              "      <td>23</td>\n",
              "      <td>33</td>\n",
              "      <td>38</td>\n",
              "      <td>42</td>\n",
              "      <td>51</td>\n",
              "      <td>55</td>\n",
              "      <td>59</td>\n",
              "      <td>64</td>\n",
              "      <td>70</td>\n",
              "      <td>76</td>\n",
              "      <td>89</td>\n",
              "      <td>104</td>\n",
              "      <td>123</td>\n",
              "    </tr>\n",
              "    <tr>\n",
              "      <th>2</th>\n",
              "      <td>NaN</td>\n",
              "      <td>Algeria</td>\n",
              "      <td>28.0339</td>\n",
              "      <td>1.6596</td>\n",
              "      <td>0</td>\n",
              "      <td>0</td>\n",
              "      <td>0</td>\n",
              "      <td>0</td>\n",
              "      <td>0</td>\n",
              "      <td>0</td>\n",
              "      <td>0</td>\n",
              "      <td>0</td>\n",
              "      <td>0</td>\n",
              "      <td>0</td>\n",
              "      <td>0</td>\n",
              "      <td>0</td>\n",
              "      <td>0</td>\n",
              "      <td>0</td>\n",
              "      <td>0</td>\n",
              "      <td>0</td>\n",
              "      <td>0</td>\n",
              "      <td>0</td>\n",
              "      <td>0</td>\n",
              "      <td>0</td>\n",
              "      <td>0</td>\n",
              "      <td>0</td>\n",
              "      <td>0</td>\n",
              "      <td>0</td>\n",
              "      <td>0</td>\n",
              "      <td>0</td>\n",
              "      <td>0</td>\n",
              "      <td>0</td>\n",
              "      <td>0</td>\n",
              "      <td>0</td>\n",
              "      <td>0</td>\n",
              "      <td>0</td>\n",
              "      <td>0</td>\n",
              "      <td>0</td>\n",
              "      <td>1</td>\n",
              "      <td>1</td>\n",
              "      <td>1</td>\n",
              "      <td>1</td>\n",
              "      <td>1</td>\n",
              "      <td>1</td>\n",
              "      <td>3</td>\n",
              "      <td>5</td>\n",
              "      <td>12</td>\n",
              "      <td>12</td>\n",
              "      <td>17</td>\n",
              "      <td>17</td>\n",
              "      <td>19</td>\n",
              "      <td>20</td>\n",
              "      <td>20</td>\n",
              "      <td>20</td>\n",
              "      <td>24</td>\n",
              "      <td>26</td>\n",
              "      <td>37</td>\n",
              "      <td>48</td>\n",
              "      <td>54</td>\n",
              "      <td>60</td>\n",
              "      <td>74</td>\n",
              "      <td>87</td>\n",
              "      <td>90</td>\n",
              "      <td>139</td>\n",
              "      <td>201</td>\n",
              "      <td>230</td>\n",
              "      <td>264</td>\n",
              "    </tr>\n",
              "    <tr>\n",
              "      <th>3</th>\n",
              "      <td>NaN</td>\n",
              "      <td>Andorra</td>\n",
              "      <td>42.5063</td>\n",
              "      <td>1.5218</td>\n",
              "      <td>0</td>\n",
              "      <td>0</td>\n",
              "      <td>0</td>\n",
              "      <td>0</td>\n",
              "      <td>0</td>\n",
              "      <td>0</td>\n",
              "      <td>0</td>\n",
              "      <td>0</td>\n",
              "      <td>0</td>\n",
              "      <td>0</td>\n",
              "      <td>0</td>\n",
              "      <td>0</td>\n",
              "      <td>0</td>\n",
              "      <td>0</td>\n",
              "      <td>0</td>\n",
              "      <td>0</td>\n",
              "      <td>0</td>\n",
              "      <td>0</td>\n",
              "      <td>0</td>\n",
              "      <td>0</td>\n",
              "      <td>0</td>\n",
              "      <td>0</td>\n",
              "      <td>0</td>\n",
              "      <td>0</td>\n",
              "      <td>0</td>\n",
              "      <td>0</td>\n",
              "      <td>0</td>\n",
              "      <td>0</td>\n",
              "      <td>0</td>\n",
              "      <td>0</td>\n",
              "      <td>0</td>\n",
              "      <td>0</td>\n",
              "      <td>0</td>\n",
              "      <td>0</td>\n",
              "      <td>0</td>\n",
              "      <td>0</td>\n",
              "      <td>0</td>\n",
              "      <td>0</td>\n",
              "      <td>0</td>\n",
              "      <td>0</td>\n",
              "      <td>1</td>\n",
              "      <td>1</td>\n",
              "      <td>1</td>\n",
              "      <td>1</td>\n",
              "      <td>1</td>\n",
              "      <td>1</td>\n",
              "      <td>1</td>\n",
              "      <td>1</td>\n",
              "      <td>1</td>\n",
              "      <td>1</td>\n",
              "      <td>1</td>\n",
              "      <td>1</td>\n",
              "      <td>1</td>\n",
              "      <td>1</td>\n",
              "      <td>2</td>\n",
              "      <td>39</td>\n",
              "      <td>39</td>\n",
              "      <td>53</td>\n",
              "      <td>75</td>\n",
              "      <td>88</td>\n",
              "      <td>113</td>\n",
              "      <td>133</td>\n",
              "      <td>164</td>\n",
              "    </tr>\n",
              "    <tr>\n",
              "      <th>4</th>\n",
              "      <td>NaN</td>\n",
              "      <td>Angola</td>\n",
              "      <td>-11.2027</td>\n",
              "      <td>17.8739</td>\n",
              "      <td>0</td>\n",
              "      <td>0</td>\n",
              "      <td>0</td>\n",
              "      <td>0</td>\n",
              "      <td>0</td>\n",
              "      <td>0</td>\n",
              "      <td>0</td>\n",
              "      <td>0</td>\n",
              "      <td>0</td>\n",
              "      <td>0</td>\n",
              "      <td>0</td>\n",
              "      <td>0</td>\n",
              "      <td>0</td>\n",
              "      <td>0</td>\n",
              "      <td>0</td>\n",
              "      <td>0</td>\n",
              "      <td>0</td>\n",
              "      <td>0</td>\n",
              "      <td>0</td>\n",
              "      <td>0</td>\n",
              "      <td>0</td>\n",
              "      <td>0</td>\n",
              "      <td>0</td>\n",
              "      <td>0</td>\n",
              "      <td>0</td>\n",
              "      <td>0</td>\n",
              "      <td>0</td>\n",
              "      <td>0</td>\n",
              "      <td>0</td>\n",
              "      <td>0</td>\n",
              "      <td>0</td>\n",
              "      <td>0</td>\n",
              "      <td>0</td>\n",
              "      <td>0</td>\n",
              "      <td>0</td>\n",
              "      <td>0</td>\n",
              "      <td>0</td>\n",
              "      <td>0</td>\n",
              "      <td>0</td>\n",
              "      <td>0</td>\n",
              "      <td>0</td>\n",
              "      <td>0</td>\n",
              "      <td>0</td>\n",
              "      <td>0</td>\n",
              "      <td>0</td>\n",
              "      <td>0</td>\n",
              "      <td>0</td>\n",
              "      <td>0</td>\n",
              "      <td>0</td>\n",
              "      <td>0</td>\n",
              "      <td>0</td>\n",
              "      <td>0</td>\n",
              "      <td>0</td>\n",
              "      <td>0</td>\n",
              "      <td>0</td>\n",
              "      <td>0</td>\n",
              "      <td>0</td>\n",
              "      <td>0</td>\n",
              "      <td>1</td>\n",
              "      <td>2</td>\n",
              "      <td>2</td>\n",
              "      <td>3</td>\n",
              "      <td>3</td>\n",
              "    </tr>\n",
              "  </tbody>\n",
              "</table>\n",
              "</div>"
            ],
            "text/plain": [
              "  Province/State Country/Region      Lat  ...  3/22/20  3/23/20  3/24/20\n",
              "0            NaN    Afghanistan  33.0000  ...       40       40       74\n",
              "1            NaN        Albania  41.1533  ...       89      104      123\n",
              "2            NaN        Algeria  28.0339  ...      201      230      264\n",
              "3            NaN        Andorra  42.5063  ...      113      133      164\n",
              "4            NaN         Angola -11.2027  ...        2        3        3\n",
              "\n",
              "[5 rows x 67 columns]"
            ]
          },
          "metadata": {
            "tags": []
          },
          "execution_count": 9
        }
      ]
    },
    {
      "cell_type": "code",
      "metadata": {
        "id": "XHw0klVZOO5o",
        "colab_type": "code",
        "outputId": "8b5b59c6-a766-4daf-f485-b94d9360c70b",
        "colab": {
          "base_uri": "https://localhost:8080/",
          "height": 283
        }
      },
      "source": [
        "df.loc[df['Country/Region'] == 'US'].T.iloc[50:].plot()"
      ],
      "execution_count": 0,
      "outputs": [
        {
          "output_type": "execute_result",
          "data": {
            "text/plain": [
              "<matplotlib.axes._subplots.AxesSubplot at 0x7f32f9f0f470>"
            ]
          },
          "metadata": {
            "tags": []
          },
          "execution_count": 18
        },
        {
          "output_type": "display_data",
          "data": {
            "image/png": "[encoded data removed]",
            "text/plain": [
              "<Figure size 432x288 with 1 Axes>"
            ]
          },
          "metadata": {
            "tags": []
          }
        }
      ]
    },
    {
      "cell_type": "code",
      "metadata": {
        "id": "P_P1mH5iOddH",
        "colab_type": "code",
        "colab": {}
      },
      "source": [
        ""
      ],
      "execution_count": 0,
      "outputs": []
    }
  ]
}